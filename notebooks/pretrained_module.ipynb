{
 "cells": [
  {
   "cell_type": "code",
   "execution_count": 1,
   "id": "7ae54cd0-6253-46dd-a316-4f20b12041e0",
   "metadata": {},
   "outputs": [],
   "source": [
    "%load_ext autoreload\n",
    "%autoreload 2\n",
    "\n",
    "import numpy as np\n",
    "import torch\n",
    "import ablang2"
   ]
  },
  {
   "cell_type": "markdown",
   "id": "10801511-770d-46ac-a15d-a02d4ef9ec87",
   "metadata": {},
   "source": [
    "# **0. Sequence input and its format**\n",
    "\n",
    "AbLang2 takes as input either the individual heavy variable domain (VH), light variable domain (VL), or the full variable domain (Fv).\n",
    "\n",
    "Each record (antibody) needs to be a list with the VH as the first element and the VL as the second. If either the VH or VL is not known, leave an empty string.\n",
    "\n",
    "An asterisk (\\*) is used for masking. It is recommended to mask residues which you are interested in mutating.\n",
    "\n",
    "**NB:** It is important that the VH and VL sequence is ordered correctly."
   ]
  },
  {
   "cell_type": "code",
   "execution_count": 2,
   "id": "99192978-a008-4a32-a80e-bba238e0ec7c",
   "metadata": {},
   "outputs": [],
   "source": [
    "seq1 = [\n",
    "    'EVQLLESGGEVKKPGASVKVSCRASGYTFRNYGLTWVRQAPGQGLEWMGWISAYNGNTNYAQKFQGRVTLTTDTSTSTAYMELRSLRSDDTAVYFCARDVPGHGAAFMDVWGTGTTVTVSS', # VH sequence\n",
    "    'DIQLTQSPLSLPVTLGQPASISCRSSQSLEASDTNIYLSWFQQRPGQSPRRLIYKISNRDSGVPDRFSGSGSGTHFTLRISRVEADDVAVYYCMQGTHWPPAFGQGTKVDIK' # VL sequence\n",
    "]\n",
    "seq2 = [\n",
    "    'EVQLLESGGEVKKPGASVKVSCRASGYTFRNYGLTWVRQAPGQGLEWMGWISAYNGNTNYAQKFQGRVTLTTDTSTSTAYMELRSLRSDDTAVYFCARDVPGHGAAFMDVWGTGTT',\n",
    "    'PVTLGQPASISCRSSQSLEASDTNIYLSWFQQRPGQSPRRLIYKISNRDSGVPDRFSGSGSGTHFTLRISRVEADDVAVYYCMQGTHWPPAFGQGTKVDIK'\n",
    "]\n",
    "seq3 = [\n",
    "    'EVQLLESGGEVKKPGASVKVSCRASGYTFRNYGLTWVRQAPGQGLEWMGWISAYNGNTNYAQKFQGRVTLTTDTSTSTAYMELRSLRSDDTAVYFCARDVPGHGAAFMDVWGTGTTVTVSS',\n",
    "    '' # The VL sequence is not known, so an empty string is left instead. \n",
    "]\n",
    "seq4 = [\n",
    "    '',\n",
    "    'DIQLTQSPLSLPVTLGQPASISCRSSQSLEASDTNIYLSWFQQRPGQSPRRLIYKISNRDSGVPDRFSGSGSGTHFTLRISRVEADDVAVYYCMQGTHWPPAFGQGTKVDIK'\n",
    "]\n",
    "seq5 = [\n",
    "    'EVQ***SGGEVKKPGASVKVSCRASGYTFRNYGLTWVRQAPGQGLEWMGWISAYNGNTNYAQKFQGRVTLTTDTSTSTAYMELRSLRSDDTAVYFCAR**PGHGAAFMDVWGTGTTVTVSS', # (*) is used to mask certain residues\n",
    "    'DIQLTQSPLSLPVTLGQPASISCRSS*SLEASDTNIYLSWFQQRPGQSPRRLIYKI*NRDSGVPDRFSGSGSGTHFTLRISRVEADDVAVYYCMQGTHWPPAFGQGTKVDIK'\n",
    "]\n",
    "\n",
    "all_seqs = [seq1, seq2, seq3, seq4, seq5]\n",
    "only_both_chains_seqs = [seq1, seq2, seq5]"
   ]
  },
  {
   "cell_type": "markdown",
   "id": "dffbacfa-8642-4d94-9572-2205a05c18f9",
   "metadata": {},
   "source": [
    "# **1. How to use AbLang2**\n",
    "\n",
    "AbLang2 can be downloaded and used in its raw form as seen below. For convenience, we have also developed different \"modes\" which can be used for specific use cases (see Section 2) "
   ]
  },
  {
   "cell_type": "code",
   "execution_count": 3,
   "id": "0e7419e4-db22-49ea-8e12-6db2b3681545",
   "metadata": {},
   "outputs": [],
   "source": [
    "# Download and initialise the model\n",
    "ablang = ablang2.pretrained(model_to_use='ablang2-paired', random_init=False, ncpu=1, device='cpu')\n",
    "\n",
    "# Tokenize input sequences\n",
    "seq = f\"{seq1[0]}|{seq1[1]}\" # VH first, VL second, with | used to separated the two sequences \n",
    "tokenized_seq = ablang.tokenizer([seq], pad=True, w_extra_tkns=False, device=\"cpu\")\n",
    "        \n",
    "# Generate rescodings\n",
    "with torch.no_grad():\n",
    "    rescoding = ablang.AbRep(tokenized_seq).last_hidden_states\n",
    "\n",
    "# Generate logits/likelihoods\n",
    "with torch.no_grad():\n",
    "    likelihoods = ablang.AbLang(tokenized_seq)"
   ]
  },
  {
   "cell_type": "markdown",
   "id": "48562761-6ebe-4025-be97-918c9f9eff7e",
   "metadata": {},
   "source": [
    "# **2. Different modes for specific usecases**\n",
    "\n",
    "AbLang2 has already been implemented for a variety of different usecases. The benefit of these modes is that they handle extra tokens such as start, stop and separation tokens.\n",
    "\n",
    "1. seqcoding: Generates sequence representations for each sequence\n",
    "2. rescoding: Generates residue representations for each residue in each sequence\n",
    "3. likelihood: Generates likelihoods for each amino acid at each position in each sequence\n",
    "4. probability: Generates probabilities for each amino acid at each position in each sequence\n",
    "5. pseudo_log_likelihood: Returns the pseudo log likelihood for a sequence (based on masking each residue one at a time)\n",
    "6. confidence: Returns a fast calculation of the log likelihood for a sequence (based on a single pass with no masking)\n",
    "7. restore: Restores masked residues\n",
    "\n",
    "### **AbLang2 can also align the resulting representations using ANARCI**\n",
    "\n",
    "This can be done for 'rescoding', 'likelihood', and 'probability'. This is done by setting the argument \"align=True\".\n",
    "\n",
    "**NB**: Align can only be used on input with the same format, i.e. either all heavy, all light, or all both heavy and light.\n",
    "\n",
    "### **The align argument can also be used to restore variable missing lengths**\n",
    "\n",
    "For this, use \"align=True\" with the 'restore' mode."
   ]
  },
  {
   "cell_type": "code",
   "execution_count": 4,
   "id": "ceae4a88-0679-4704-8bad-c06a4569c497",
   "metadata": {},
   "outputs": [],
   "source": [
    "ablang = ablang2.pretrained()\n",
    "\n",
    "valid_modes = [\n",
    "    'seqcoding', 'rescoding', 'likelihood', 'probability',\n",
    "    'pseudo_log_likelihood', 'confidence', 'restore' \n",
    "]"
   ]
  },
  {
   "cell_type": "markdown",
   "id": "aa333732-7508-4826-92ec-3acdd54bc1bb",
   "metadata": {},
   "source": [
    "## **seqcoding** \n",
    "\n",
    "The seqcodings represents each sequence as a 480 sized embedding. It is derived from averaging across each rescoding embedding for a given sequence, including extra tokens. \n",
    "\n",
    "**NB:** Seqcodings can also be derived in other ways like using the sum or averaging across only parts of the input such as the CDRs. For such cases please use and adapt the below rescoding."
   ]
  },
  {
   "cell_type": "code",
   "execution_count": 5,
   "id": "d22f4302-1262-4cc1-8a1c-a36daa8c710c",
   "metadata": {},
   "outputs": [
    {
     "data": {
      "text/plain": [
       "array([[-0.25206307,  0.18189631,  0.00887138, ...,  0.15365519,\n",
       "        -0.14508606, -0.1338132 ],\n",
       "       [-0.25149408,  0.20864546,  0.07518199, ...,  0.19478273,\n",
       "        -0.15227766, -0.08241639],\n",
       "       [-0.27468954,  0.16507216,  0.08667152, ...,  0.18776285,\n",
       "        -0.14165084, -0.16389883],\n",
       "       [-0.19822123,  0.16841072, -0.0492593 , ...,  0.11400165,\n",
       "        -0.1472368 , -0.09713164],\n",
       "       [-0.29553185,  0.17239205,  0.05676922, ...,  0.15943633,\n",
       "        -0.16615381, -0.15569785]])"
      ]
     },
     "execution_count": 5,
     "metadata": {},
     "output_type": "execute_result"
    }
   ],
   "source": [
    "ablang(all_seqs, mode='seqcoding')"
   ]
  },
  {
   "cell_type": "markdown",
   "id": "ac98c317-e085-4d94-9729-bbae039f49ac",
   "metadata": {},
   "source": [
    "## **rescoding / likelihood / probability**\n",
    "\n",
    "The rescodings represents each residue as a 480 sized embedding. The likelihoods represents each residue as the predicted logits for each character in the vocabulary. The probabilities represents the normalised likelihoods.\n",
    "\n",
    "**NB:** The output includes extra tokens (start, stop and separation tokens) in the format \"<VH_seq>|<VL_seq>\". The length of the output is therefore 5 longer than the VH and VL.\n",
    "\n",
    "**NB:** By default the representations are derived using a single forward pass. To prevent the predicted likelihood and probability to be affected by the input residue at each position, setting the \"stepwise_masking\" argument to True can be used. This will run a forward pass for each position with the residue at that position masked. This is much slower than running a single forward pass."
   ]
  },
  {
   "cell_type": "code",
   "execution_count": 6,
   "id": "6227f661-575f-4b1e-9646-cfba7b10c3b4",
   "metadata": {},
   "outputs": [
    {
     "data": {
      "text/plain": [
       "[array([[-0.4074121 , -0.5118989 ,  0.06096726, ...,  0.32681447,\n",
       "          0.03920222, -0.3671585 ],\n",
       "        [-0.5768881 ,  0.3824539 , -0.2179203 , ...,  0.01250257,\n",
       "         -0.08844507, -0.32367533],\n",
       "        [-0.1475931 ,  0.39639005, -0.38226977, ..., -0.10119948,\n",
       "         -0.41469535, -0.00319355],\n",
       "        ...,\n",
       "        [-0.14358361,  0.3124388 , -0.30157983, ..., -0.13289262,\n",
       "         -0.45353422, -0.07878865],\n",
       "        [ 0.17538936,  0.24394287,  0.20141171, ...,  0.14587358,\n",
       "         -0.38479036,  0.0740919 ],\n",
       "        [-0.23031718, -0.35487312,  0.19606815, ..., -0.12833653,\n",
       "          0.31107306, -0.32651076]], dtype=float32),\n",
       " array([[-0.41981825, -0.3666373 ,  0.10595194, ...,  0.39035738,\n",
       "          0.03823777, -0.36337993],\n",
       "        [-0.5054134 ,  0.38347128, -0.10992065, ..., -0.05231512,\n",
       "         -0.1363659 , -0.348301  ],\n",
       "        [-0.06784608,  0.6934987 , -0.42123976, ..., -0.24805394,\n",
       "         -0.39583805, -0.10972723],\n",
       "        ...,\n",
       "        [-0.2090097 ,  0.29489487, -0.11039039, ..., -0.24245408,\n",
       "         -0.60625196, -0.0230795 ],\n",
       "        [ 0.19134359,  0.21744643,  0.25758272, ...,  0.1584543 ,\n",
       "         -0.34743655,  0.10218262],\n",
       "        [-0.25511587, -0.21778464,  0.21906367, ..., -0.0965612 ,\n",
       "          0.22394876, -0.20267321]], dtype=float32),\n",
       " array([[-0.4004373 , -0.48596817,  0.08867218, ...,  0.3894164 ,\n",
       "          0.06195952, -0.4099967 ],\n",
       "        [-0.5457607 ,  0.4312959 , -0.34514895, ..., -0.09285557,\n",
       "          0.0311651 , -0.4526969 ],\n",
       "        [ 0.02211656,  0.53196555, -0.30137223, ..., -0.18890731,\n",
       "         -0.32587302,  0.05078455],\n",
       "        ...,\n",
       "        [ 0.2630384 , -0.22976054,  0.5510371 , ...,  0.47436467,\n",
       "         -0.42733577, -0.83135843],\n",
       "        [-0.13752188,  0.28678578, -0.18887064, ...,  0.28262642,\n",
       "          0.12546785, -0.6496486 ],\n",
       "        [-0.4541421 ,  0.24564992,  0.2132734 , ...,  0.03287441,\n",
       "          0.03825564, -0.34259138]], dtype=float32),\n",
       " array([[-0.26863214,  0.32259193,  0.1081351 , ...,  0.03953857,\n",
       "          0.18312052, -0.00498037],\n",
       "        [-0.21654238, -0.38562438, -0.02696266, ...,  0.2054149 ,\n",
       "          0.18698394, -0.22639506],\n",
       "        [-0.41950473,  0.04743316,  0.0048819 , ...,  0.11408659,\n",
       "         -0.05384667,  0.10258762],\n",
       "        ...,\n",
       "        [-0.10960465,  0.3515136 , -0.21752472, ..., -0.21448965,\n",
       "         -0.63962215, -0.0083978 ],\n",
       "        [ 0.2049191 ,  0.3629451 ,  0.19217399, ...,  0.07750703,\n",
       "         -0.50392133,  0.03793877],\n",
       "        [-0.11638466, -0.35350895,  0.13215739, ..., -0.16060573,\n",
       "          0.23913905, -0.2565336 ]], dtype=float32),\n",
       " array([[-0.42062968, -0.44009122,  0.00152388, ...,  0.2714146 ,\n",
       "          0.03798109, -0.3974612 ],\n",
       "        [-0.5731812 ,  0.52588993, -0.1700163 , ..., -0.23864649,\n",
       "          0.20880598, -0.5787757 ],\n",
       "        [-0.389886  ,  0.46168214, -0.34294122, ..., -0.1487261 ,\n",
       "         -0.46576884, -0.21224989],\n",
       "        ...,\n",
       "        [-0.21528645,  0.3004673 , -0.2521644 , ..., -0.11576813,\n",
       "         -0.4704908 , -0.07401378],\n",
       "        [ 0.06330794,  0.22700721,  0.28184175, ...,  0.15967289,\n",
       "         -0.3771823 ,  0.06188541],\n",
       "        [-0.27826297, -0.37297502,  0.2122993 , ..., -0.14886023,\n",
       "          0.24998328, -0.3595424 ]], dtype=float32)]"
      ]
     },
     "execution_count": 6,
     "metadata": {},
     "output_type": "execute_result"
    }
   ],
   "source": [
    "ablang(all_seqs, mode='rescoding', stepwise_masking = False)"
   ]
  },
  {
   "cell_type": "markdown",
   "id": "6da2183b-4306-49bd-a7fc-23e78a23f305",
   "metadata": {},
   "source": [
    "## **Align rescoding/likelihood/probability output**\n",
    "\n",
    "For the 'rescoding', 'likelihood', and 'probability' modes, the output can also be aligned using the argument \"align=True\".\n",
    "\n",
    "This is done using the antibody numbering tool ANARCI, and requires manually installing **Pandas** and **[ANARCI](https://github.com/oxpig/ANARCI)**.\n",
    "\n",
    "**NB**: Align can only be used on input with the same format, i.e. either all heavy, all light, or all both heavy and light."
   ]
  },
  {
   "cell_type": "code",
   "execution_count": 7,
   "id": "e4bc0cb1-f5b0-4255-9e93-d643ae1396df",
   "metadata": {},
   "outputs": [
    {
     "name": "stdout",
     "output_type": "stream",
     "text": [
      "['<' '1 ' '2 ' '3 ' '4 ' '5 ' '6 ' '7 ' '8 ' '9 ' '11 ' '12 ' '13 ' '14 '\n",
      " '15 ' '16 ' '17 ' '18 ' '19 ' '20 ' '21 ' '22 ' '23 ' '24 ' '25 ' '26 '\n",
      " '27 ' '28 ' '29 ' '30 ' '35 ' '36 ' '37 ' '38 ' '39 ' '40 ' '41 ' '42 '\n",
      " '43 ' '44 ' '45 ' '46 ' '47 ' '48 ' '49 ' '50 ' '51 ' '52 ' '53 ' '54 '\n",
      " '55 ' '56 ' '57 ' '58 ' '59 ' '62 ' '63 ' '64 ' '65 ' '66 ' '67 ' '68 '\n",
      " '69 ' '70 ' '71 ' '72 ' '74 ' '75 ' '76 ' '77 ' '78 ' '79 ' '80 ' '81 '\n",
      " '82 ' '83 ' '84 ' '85 ' '86 ' '87 ' '88 ' '89 ' '90 ' '91 ' '92 ' '93 '\n",
      " '94 ' '95 ' '96 ' '97 ' '98 ' '99 ' '100 ' '101 ' '102 ' '103 ' '104 '\n",
      " '105 ' '106 ' '107 ' '108 ' '109 ' '110 ' '111 ' '112A' '112 ' '113 '\n",
      " '114 ' '115 ' '116 ' '117 ' '118 ' '119 ' '120 ' '121 ' '122 ' '123 '\n",
      " '124 ' '125 ' '126 ' '127 ' '128 ' '>' '|' '<' '1 ' '2 ' '3 ' '4 ' '5 '\n",
      " '6 ' '7 ' '8 ' '9 ' '10 ' '11 ' '12 ' '13 ' '14 ' '15 ' '16 ' '17 ' '18 '\n",
      " '19 ' '20 ' '21 ' '22 ' '23 ' '24 ' '25 ' '26 ' '27 ' '28 ' '29 ' '30 '\n",
      " '31 ' '32 ' '34 ' '35 ' '36 ' '37 ' '38 ' '39 ' '40 ' '41 ' '42 ' '43 '\n",
      " '44 ' '45 ' '46 ' '47 ' '48 ' '49 ' '50 ' '51 ' '52 ' '53 ' '54 ' '55 '\n",
      " '56 ' '57 ' '64 ' '65 ' '66 ' '67 ' '68 ' '69 ' '70 ' '71 ' '72 ' '74 '\n",
      " '75 ' '76 ' '77 ' '78 ' '79 ' '80 ' '83 ' '84 ' '85 ' '86 ' '87 ' '88 '\n",
      " '89 ' '90 ' '91 ' '92 ' '93 ' '94 ' '95 ' '96 ' '97 ' '98 ' '99 ' '100 '\n",
      " '101 ' '102 ' '103 ' '104 ' '105 ' '106 ' '107 ' '108 ' '109 ' '114 '\n",
      " '115 ' '116 ' '117 ' '118 ' '119 ' '120 ' '121 ' '122 ' '123 ' '124 '\n",
      " '125 ' '126 ' '127 ' '>']\n",
      "['<EVQLLESGGEVKKPGASVKVSCRASGYTFRNYGLTWVRQAPGQGLEWMGWISAYNGNTNYAQKFQGRVTLTTDTSTSTAYMELRSLRSDDTAVYFCARDVPGHGAAFMDVWGTGTTVTVSS>|<DIQLTQSPLSLPVTLGQPASISCRSSQSLEASDTNIYLSWFQQRPGQSPRRLIYKI-SNRDSGVPDRFSGSGSGTHFTLRISRVEADDVAVYYCMQGTHWPPAFGQGTKVDIK>', '<EVQLLESGGEVKKPGASVKVSCRASGYTFRNYGLTWVRQAPGQGLEWMGWISAYNGNTNYAQKFQGRVTLTTDTSTSTAYMELRSLRSDDTAVYFCARDVPGHGAAFMDVWGTGTT----->|<-----------PVTLGQPASISCRSSQSLEASDTNIYLSWFQQRPGQSPRRLIYKI-SNRDSGVPDRFSGSGSGTHFTLRISRVEADDVAVYYCMQGTHWPPAFGQGTKVDIK>', '<------SGGEVKKPGASVKVSCRASGYTFRNYGLTWVRQAPGQGLEWMGWISAYNGNTNYAQKFQGRVTLTTDTSTSTAYMELRSLRSDDTAVYFCAR**PGHGAAFMDVWGTGTTVTVSS>|<DIQLTQSPLSLPVTLGQPASISCRSS*SLEASDTNIYLSWFQQRPGQSPRRLIYKI*N-RDSGVPDRFSGSGSGTHFTLRISRVEADDVAVYYCMQGTHWPPAFGQGTKVDIK>']\n",
      "[[[  9.31621647  -3.42184281  -3.59397793 ... -14.7370739   -6.8935833\n",
      "    -0.23662652]\n",
      "  [ -3.54718614  -5.84867144  -4.02423573 ... -12.93966866  -9.56145477\n",
      "    -4.48474216]\n",
      "  [-11.94997311  -2.24554205  -5.69481516 ... -15.19639015 -17.97454071\n",
      "   -12.56951809]\n",
      "  ...\n",
      "  [ -8.94504738  -0.42261532  -4.95587921 ... -16.66817284 -15.22246647\n",
      "   -10.37267303]\n",
      "  [-11.65150261  -5.44477606  -2.95585799 ... -16.25555801  -9.75158691\n",
      "   -11.75896645]\n",
      "  [  1.79470015  -1.95846653  -3.59784555 ... -14.95585823  -7.47080708\n",
      "    -0.95227039]]\n",
      "\n",
      " [[  8.55518818  -3.83663416  -2.3359592  ... -13.87456894  -8.14840508\n",
      "    -0.42472276]\n",
      "  [ -4.40701389  -5.53201723  -3.69397473 ... -12.97877789  -9.86258793\n",
      "    -4.95414352]\n",
      "  [-11.95642948  -3.86210775  -5.80935478 ... -14.89213181 -16.94556618\n",
      "   -11.36959648]\n",
      "  ...\n",
      "  [ -7.75924444  -0.66524196  -4.08643532 ... -16.16580772 -14.76507473\n",
      "    -8.35071182]\n",
      "  [-11.91039562  -4.86995602  -2.7477746  ... -16.07694817  -8.4497509\n",
      "   -10.45223808]\n",
      "  [  0.86007071  -2.37963891  -3.58130717 ... -15.3542347   -7.73035145\n",
      "    -1.1198951 ]]\n",
      "\n",
      " [[ -4.3790288   -7.55587101   1.21958315 ... -15.48622513  -6.02184677\n",
      "    -3.79647803]\n",
      "  [  0.           0.           0.         ...   0.           0.\n",
      "     0.        ]\n",
      "  [  0.           0.           0.         ...   0.           0.\n",
      "     0.        ]\n",
      "  ...\n",
      "  [ -8.94207573  -0.51090401  -5.09760571 ... -16.69521713 -15.45450115\n",
      "   -10.50823021]\n",
      "  [-11.92355061  -5.5515275   -2.87667179 ... -16.40607834 -10.19431782\n",
      "   -12.13287926]\n",
      "  [  2.42200279  -2.01573515  -3.61701131 ... -14.95904255  -7.19029284\n",
      "    -0.89830136]]]\n"
     ]
    }
   ],
   "source": [
    "results = ablang(only_both_chains_seqs, mode='likelihood', align=True)\n",
    "\n",
    "print(results.number_alignment)\n",
    "print(results.aligned_seqs)\n",
    "print(results.aligned_embeds)"
   ]
  },
  {
   "cell_type": "markdown",
   "id": "8f0a71ec-e916-4330-90d0-13a4b1121a89",
   "metadata": {},
   "source": [
    "## **Pseudo log likelihood and Confidence scores**\n",
    "\n",
    "The pseudo log likelihood and confidence represents two methods for calculating the uncertainty for the input sequence.\n",
    "\n",
    "- pseudo_log_likelihood: For each position, the pseudo log likelihood is calculated when predicting the masked residue. The final score is an average across the whole input. This is similar to the approach taken in the ESM-2 paper for calculating pseudo perplexity [(Lin et al., 2023)](https://doi.org/10.1126/science.ade2574).\n",
    "\n",
    "- confidence: For each position, the log likelihood is calculated without masking the residue. The final score is an average across the whole input. \n",
    "\n",
    "**NB:** The **confidence is fast** to compute, requiring only a single forward pass per input. **Pseudo log likelihood is slow** to calculate, requiring L forward passes per input, where L is the length of the input.\n",
    "\n",
    "**NB:** It is recommended to use **pseudo log likelihood for final results** and **confidence for exploratory work**."
   ]
  },
  {
   "cell_type": "code",
   "execution_count": 8,
   "id": "83f3064b-48a7-42fb-ba82-ec153ea946da",
   "metadata": {},
   "outputs": [
    {
     "data": {
      "text/plain": [
       "array([1.9951935, 2.017602 , 2.1375413, 1.8546418, 2.0021744],\n",
       "      dtype=float32)"
      ]
     },
     "execution_count": 8,
     "metadata": {},
     "output_type": "execute_result"
    }
   ],
   "source": [
    "results = ablang(all_seqs, mode='pseudo_log_likelihood')\n",
    "np.exp(-results) # convert to pseudo perplexity"
   ]
  },
  {
   "cell_type": "code",
   "execution_count": 9,
   "id": "42cc8b34-5ae9-4857-93fe-a438a0f2a868",
   "metadata": {},
   "outputs": [
    {
     "data": {
      "text/plain": [
       "array([1.2699332, 1.1272193, 1.3212236, 1.2203737, 1.1848253],\n",
       "      dtype=float32)"
      ]
     },
     "execution_count": 9,
     "metadata": {},
     "output_type": "execute_result"
    }
   ],
   "source": [
    "results = ablang(all_seqs, mode='confidence')\n",
    "np.exp(-results)"
   ]
  },
  {
   "cell_type": "markdown",
   "id": "e0b63e48-b2a1-4a8e-8ecb-449748a2cb25",
   "metadata": {},
   "source": [
    "## **restore**\n",
    "\n",
    "This mode can be used to restore masked residues, and fragmented regions with \"align=True\". "
   ]
  },
  {
   "cell_type": "code",
   "execution_count": 10,
   "id": "2d5b725c-4eac-4a4b-9331-357c3ac140f7",
   "metadata": {},
   "outputs": [
    {
     "data": {
      "text/plain": [
       "array(['<EVQLLESGGEVKKPGASVKVSCRASGYTFRNYGLTWVRQAPGQGLEWMGWISAYNGNTNYAQKFQGRVTLTTDTSTSTAYMELRSLRSDDTAVYFCARDVPGHGAAFMDVWGTGTTVTVSS>|<DIQLTQSPLSLPVTLGQPASISCRSSQSLEASDTNIYLSWFQQRPGQSPRRLIYKISNRDSGVPDRFSGSGSGTHFTLRISRVEADDVAVYYCMQGTHWPPAFGQGTKVDIK>',\n",
       "       '<EVQLLESGGEVKKPGASVKVSCRASGYTFRNYGLTWVRQAPGQGLEWMGWISAYNGNTNYAQKFQGRVTLTTDTSTSTAYMELRSLRSDDTAVYFCARDVPGHGAAFMDVWGTGTT>|<PVTLGQPASISCRSSQSLEASDTNIYLSWFQQRPGQSPRRLIYKISNRDSGVPDRFSGSGSGTHFTLRISRVEADDVAVYYCMQGTHWPPAFGQGTKVDIK>',\n",
       "       '<EVQLVQSGGEVKKPGASVKVSCRASGYTFRNYGLTWVRQAPGQGLEWMGWISAYNGNTNYAQKFQGRVTLTTDTSTSTAYMELRSLRSDDTAVYFCARDPPGHGAAFMDVWGTGTTVTVSS>|<DIQLTQSPLSLPVTLGQPASISCRSSQSLEASDTNIYLSWFQQRPGQSPRRLIYKISNRDSGVPDRFSGSGSGTHFTLRISRVEADDVAVYYCMQGTHWPPAFGQGTKVDIK>'],\n",
       "      dtype='<U238')"
      ]
     },
     "execution_count": 10,
     "metadata": {},
     "output_type": "execute_result"
    }
   ],
   "source": [
    "restored = ablang(only_both_chains_seqs, mode='restore')\n",
    "restored"
   ]
  },
  {
   "cell_type": "code",
   "execution_count": 11,
   "id": "0e9615f7-c490-4947-96f4-7617266c686e",
   "metadata": {},
   "outputs": [
    {
     "data": {
      "text/plain": [
       "array(['<EVQLLESGGEVKKPGASVKVSCRASGYTFRNYGLTWVRQAPGQGLEWMGWISAYNGNTNYAQKFQGRVTLTTDTSTSTAYMELRSLRSDDTAVYFCARDVPGHGAAFMDVWGTGTTVTVSS>|<DIQLTQSPLSLPVTLGQPASISCRSSQSLEASDTNIYLSWFQQRPGQSPRRLIYKISNRDSGVPDRFSGSGSGTHFTLRISRVEADDVAVYYCMQGTHWPPAFGQGTKVDIK>',\n",
       "       '<EVQLLESGGEVKKPGASVKVSCRASGYTFRNYGLTWVRQAPGQGLEWMGWISAYNGNTNYAQKFQGRVTLTTDTSTSTAYMELRSLRSDDTAVYFCARDVPGHGAAFMDVWGTGTTVTVSS>|<DVVMTQSPLSLPVTLGQPASISCRSSQSLEASDTNIYLSWFQQRPGQSPRRLIYKISNRDSGVPDRFSGSGSGTHFTLRISRVEADDVAVYYCMQGTHWPPAFGQGTKVDIK>',\n",
       "       '<QVQLVQSGGEVKKPGASVKVSCRASGYTFRNYGLTWVRQAPGQGLEWMGWISAYNGNTNYAQKFQGRVTLTTDTSTSTAYMELRSLRSDDTAVYFCARDPPGHGAAFMDVWGTGTTVTVSS>|<DIQLTQSPLSLPVTLGQPASISCRSSQSLEASDTNIYLSWFQQRPGQSPRRLIYKISNRDSGVPDRFSGSGSGTHFTLRISRVEADDVAVYYCMQGTHWPPAFGQGTKVDIK>'],\n",
       "      dtype='<U238')"
      ]
     },
     "execution_count": 11,
     "metadata": {},
     "output_type": "execute_result"
    }
   ],
   "source": [
    "restored = ablang(only_both_chains_seqs, mode='restore', align = True)\n",
    "restored"
   ]
  }
 ],
 "metadata": {
  "kernelspec": {
   "display_name": "ablang",
   "language": "python",
   "name": "ablang"
  },
  "language_info": {
   "codemirror_mode": {
    "name": "ipython",
    "version": 3
   },
   "file_extension": ".py",
   "mimetype": "text/x-python",
   "name": "python",
   "nbconvert_exporter": "python",
   "pygments_lexer": "ipython3",
   "version": "3.11.9"
  }
 },
 "nbformat": 4,
 "nbformat_minor": 5
}
